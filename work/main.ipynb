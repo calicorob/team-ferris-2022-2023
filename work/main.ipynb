{
 "cells": [
  {
   "cell_type": "code",
   "execution_count": 1,
   "metadata": {},
   "outputs": [
    {
     "name": "stdout",
     "output_type": "stream",
     "text": [
      "0.1.9\n"
     ]
    }
   ],
   "source": [
    "import json\n",
    "from pathlib import Path\n",
    "import os\n",
    "import czapi.api as api\n",
    "import czapi\n",
    "import czapi_utils as utils\n",
    "import pandas as pd\n",
    "\n",
    "print(czapi.__version__)"
   ]
  },
  {
   "cell_type": "code",
   "execution_count": 2,
   "metadata": {},
   "outputs": [],
   "source": [
    "base_path = Path(os.getcwd())\n",
    "CONFIG_FILE = 'config.json'\n",
    "config_path = base_path/CONFIG_FILE\n"
   ]
  },
  {
   "cell_type": "code",
   "execution_count": 3,
   "metadata": {},
   "outputs": [
    {
     "name": "stdout",
     "output_type": "stream",
     "text": [
      "{'event_ids': [7508, 7450, 7403, 7543, 7405, 7472, 7562, 7473, 7135, 7754, 7707, 7316]}\n"
     ]
    }
   ],
   "source": [
    "with open(config_path) as file:\n",
    "    data = json.load(file)\n",
    "\n",
    "print(data)"
   ]
  },
  {
   "cell_type": "code",
   "execution_count": 4,
   "metadata": {},
   "outputs": [],
   "source": [
    "\n",
    "\n",
    "# def make_frame_from_event_list(event_id_list:list[str],**kwargs)->pd.DataFrame:\n",
    "#     return pd.concat([utils.make_frame_from_event(event=api.Event(cz_event_id=event_id,**kwargs)) for event_id in event_id_list],sort=True,axis=0).reset_index(drop=True)\n",
    "\n",
    "\n",
    "# df = make_frame_from_event_list(event_id_list = data['event_ids'],delay=2)\n",
    "# df.head()"
   ]
  },
  {
   "cell_type": "code",
   "execution_count": 5,
   "metadata": {},
   "outputs": [
    {
     "data": {
      "text/html": [
       "<div>\n",
       "<style scoped>\n",
       "    .dataframe tbody tr th:only-of-type {\n",
       "        vertical-align: middle;\n",
       "    }\n",
       "\n",
       "    .dataframe tbody tr th {\n",
       "        vertical-align: top;\n",
       "    }\n",
       "\n",
       "    .dataframe thead th {\n",
       "        text-align: right;\n",
       "    }\n",
       "</style>\n",
       "<table border=\"1\" class=\"dataframe\">\n",
       "  <thead>\n",
       "    <tr style=\"text-align: right;\">\n",
       "      <th></th>\n",
       "      <th>draw</th>\n",
       "      <th>draw_num</th>\n",
       "      <th>final_score</th>\n",
       "      <th>guid</th>\n",
       "      <th>hammer_progression</th>\n",
       "      <th>hammer_start</th>\n",
       "      <th>href</th>\n",
       "      <th>relative_score</th>\n",
       "      <th>score</th>\n",
       "      <th>team_name</th>\n",
       "    </tr>\n",
       "  </thead>\n",
       "  <tbody>\n",
       "    <tr>\n",
       "      <th>0</th>\n",
       "      <td>Draw: 1</td>\n",
       "      <td>1</td>\n",
       "      <td>6</td>\n",
       "      <td>151213346673832731189844010970064619338</td>\n",
       "      <td>[False, True, True, False, True, True, False, ...</td>\n",
       "      <td>False</td>\n",
       "      <td>event.php?view=Team&amp;eventid=7508&amp;teamid=161238...</td>\n",
       "      <td>[0, -1, -3, 0, -1, -1, 0, 1]</td>\n",
       "      <td>[0, 0, 3, 0, 0, 1, 1, 1]</td>\n",
       "      <td>Pat Ferris</td>\n",
       "    </tr>\n",
       "    <tr>\n",
       "      <th>1</th>\n",
       "      <td>Draw: 1</td>\n",
       "      <td>1</td>\n",
       "      <td>4</td>\n",
       "      <td>151213346673832731189844010970064619338</td>\n",
       "      <td>[True, False, False, True, False, False, True,...</td>\n",
       "      <td>True</td>\n",
       "      <td>event.php?view=Team&amp;eventid=7508&amp;teamid=162606#1</td>\n",
       "      <td>[0, 1, 3, 0, 1, 1, 0, -1]</td>\n",
       "      <td>[1, 2, 0, 1, 0, 0, 0, 0]</td>\n",
       "      <td>Carter Bryant</td>\n",
       "    </tr>\n",
       "    <tr>\n",
       "      <th>2</th>\n",
       "      <td>Draw: 1</td>\n",
       "      <td>1</td>\n",
       "      <td>3</td>\n",
       "      <td>249708437979294166090433971846797461660</td>\n",
       "      <td>[True, False, True, True, False, True, True]</td>\n",
       "      <td>True</td>\n",
       "      <td>event.php?view=Team&amp;eventid=7508&amp;teamid=162606...</td>\n",
       "      <td>[0, 2, -1, -1, 0, -3, -5]</td>\n",
       "      <td>[2, 0, 0, 1, 0, 0, X]</td>\n",
       "      <td>Mark Kean</td>\n",
       "    </tr>\n",
       "    <tr>\n",
       "      <th>3</th>\n",
       "      <td>Draw: 1</td>\n",
       "      <td>1</td>\n",
       "      <td>8</td>\n",
       "      <td>249708437979294166090433971846797461660</td>\n",
       "      <td>[False, True, False, False, True, False, False]</td>\n",
       "      <td>False</td>\n",
       "      <td>event.php?view=Team&amp;eventid=7508&amp;teamid=162606...</td>\n",
       "      <td>[0, -2, 1, 1, 0, 3, 5]</td>\n",
       "      <td>[0, 3, 0, 0, 3, 2, X]</td>\n",
       "      <td>Landan Rooney</td>\n",
       "    </tr>\n",
       "    <tr>\n",
       "      <th>4</th>\n",
       "      <td>Draw: 1</td>\n",
       "      <td>1</td>\n",
       "      <td>6</td>\n",
       "      <td>68149902915723226210278057867990163227</td>\n",
       "      <td>[False, True, False, False, False, False, False]</td>\n",
       "      <td>False</td>\n",
       "      <td>event.php?view=Team&amp;eventid=7508&amp;teamid=161276...</td>\n",
       "      <td>[0, -1, 0, 1, 2, 4, 5]</td>\n",
       "      <td>[0, 1, 1, 1, 2, 1, X]</td>\n",
       "      <td>Darryl Sobering</td>\n",
       "    </tr>\n",
       "  </tbody>\n",
       "</table>\n",
       "</div>"
      ],
      "text/plain": [
       "      draw draw_num final_score                                     guid   \n",
       "0  Draw: 1        1           6  151213346673832731189844010970064619338  \\\n",
       "1  Draw: 1        1           4  151213346673832731189844010970064619338   \n",
       "2  Draw: 1        1           3  249708437979294166090433971846797461660   \n",
       "3  Draw: 1        1           8  249708437979294166090433971846797461660   \n",
       "4  Draw: 1        1           6   68149902915723226210278057867990163227   \n",
       "\n",
       "                                  hammer_progression hammer_start   \n",
       "0  [False, True, True, False, True, True, False, ...        False  \\\n",
       "1  [True, False, False, True, False, False, True,...         True   \n",
       "2       [True, False, True, True, False, True, True]         True   \n",
       "3    [False, True, False, False, True, False, False]        False   \n",
       "4   [False, True, False, False, False, False, False]        False   \n",
       "\n",
       "                                                href   \n",
       "0  event.php?view=Team&eventid=7508&teamid=161238...  \\\n",
       "1   event.php?view=Team&eventid=7508&teamid=162606#1   \n",
       "2  event.php?view=Team&eventid=7508&teamid=162606...   \n",
       "3  event.php?view=Team&eventid=7508&teamid=162606...   \n",
       "4  event.php?view=Team&eventid=7508&teamid=161276...   \n",
       "\n",
       "                 relative_score                     score        team_name  \n",
       "0  [0, -1, -3, 0, -1, -1, 0, 1]  [0, 0, 3, 0, 0, 1, 1, 1]       Pat Ferris  \n",
       "1     [0, 1, 3, 0, 1, 1, 0, -1]  [1, 2, 0, 1, 0, 0, 0, 0]    Carter Bryant  \n",
       "2     [0, 2, -1, -1, 0, -3, -5]     [2, 0, 0, 1, 0, 0, X]        Mark Kean  \n",
       "3        [0, -2, 1, 1, 0, 3, 5]     [0, 3, 0, 0, 3, 2, X]    Landan Rooney  \n",
       "4        [0, -1, 0, 1, 2, 4, 5]     [0, 1, 1, 1, 2, 1, X]  Darryl Sobering  "
      ]
     },
     "execution_count": 5,
     "metadata": {},
     "output_type": "execute_result"
    }
   ],
   "source": [
    "df = utils.make_frame_from_event(event=api.Event(cz_event_id=7508))\n",
    "df.head()"
   ]
  },
  {
   "cell_type": "code",
   "execution_count": null,
   "metadata": {},
   "outputs": [],
   "source": []
  }
 ],
 "metadata": {
  "kernelspec": {
   "display_name": "Python 3",
   "language": "python",
   "name": "python3"
  },
  "language_info": {
   "codemirror_mode": {
    "name": "ipython",
    "version": 3
   },
   "file_extension": ".py",
   "mimetype": "text/x-python",
   "name": "python",
   "nbconvert_exporter": "python",
   "pygments_lexer": "ipython3",
   "version": "3.10.10"
  },
  "orig_nbformat": 4
 },
 "nbformat": 4,
 "nbformat_minor": 2
}
