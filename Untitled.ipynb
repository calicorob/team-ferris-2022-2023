{
 "cells": [
  {
   "cell_type": "code",
   "execution_count": 3,
   "id": "48c5707f",
   "metadata": {},
   "outputs": [
    {
     "name": "stdout",
     "output_type": "stream",
     "text": [
      "Requirement already satisfied: sqlalchemy in c:\\users\\0rc44\\documents\\github\\team-ferris-2022-2023\\env\\lib\\site-packages (2.0.16)\n",
      "Requirement already satisfied: typing-extensions>=4.2.0 in c:\\users\\0rc44\\documents\\github\\team-ferris-2022-2023\\env\\lib\\site-packages (from sqlalchemy) (4.6.3)\n",
      "Requirement already satisfied: greenlet!=0.4.17 in c:\\users\\0rc44\\documents\\github\\team-ferris-2022-2023\\env\\lib\\site-packages (from sqlalchemy) (2.0.2)\n",
      "Requirement already satisfied: importlib-metadata in c:\\users\\0rc44\\documents\\github\\team-ferris-2022-2023\\env\\lib\\site-packages (from sqlalchemy) (6.6.0)\n",
      "Requirement already satisfied: zipp>=0.5 in c:\\users\\0rc44\\documents\\github\\team-ferris-2022-2023\\env\\lib\\site-packages (from importlib-metadata->sqlalchemy) (3.15.0)\n"
     ]
    },
    {
     "name": "stderr",
     "output_type": "stream",
     "text": [
      "\n",
      "[notice] A new release of pip is available: 23.0.1 -> 23.1.2\n",
      "[notice] To update, run: python.exe -m pip install --upgrade pip\n"
     ]
    },
    {
     "name": "stdout",
     "output_type": "stream",
     "text": [
      "Collecting pg8000\n",
      "  Downloading pg8000-1.29.6-py3-none-any.whl (51 kB)\n",
      "     ---------------------------------------- 51.9/51.9 kB 2.6 MB/s eta 0:00:00\n",
      "Collecting scramp>=1.4.3\n",
      "  Downloading scramp-1.4.4-py3-none-any.whl (13 kB)\n",
      "Requirement already satisfied: python-dateutil>=2.8.2 in c:\\users\\0rc44\\documents\\github\\team-ferris-2022-2023\\env\\lib\\site-packages (from pg8000) (2.8.2)\n",
      "Requirement already satisfied: importlib-metadata>=1.0 in c:\\users\\0rc44\\documents\\github\\team-ferris-2022-2023\\env\\lib\\site-packages (from pg8000) (6.6.0)\n",
      "Requirement already satisfied: zipp>=0.5 in c:\\users\\0rc44\\documents\\github\\team-ferris-2022-2023\\env\\lib\\site-packages (from importlib-metadata>=1.0->pg8000) (3.15.0)\n",
      "Requirement already satisfied: typing-extensions>=3.6.4 in c:\\users\\0rc44\\documents\\github\\team-ferris-2022-2023\\env\\lib\\site-packages (from importlib-metadata>=1.0->pg8000) (4.6.3)\n",
      "Requirement already satisfied: six>=1.5 in c:\\users\\0rc44\\documents\\github\\team-ferris-2022-2023\\env\\lib\\site-packages (from python-dateutil>=2.8.2->pg8000) (1.16.0)\n",
      "Collecting asn1crypto>=1.5.1\n",
      "  Downloading asn1crypto-1.5.1-py2.py3-none-any.whl (105 kB)\n",
      "     -------------------------------------- 105.0/105.0 kB 5.9 MB/s eta 0:00:00\n",
      "Installing collected packages: asn1crypto, scramp, pg8000\n",
      "Successfully installed asn1crypto-1.5.1 pg8000-1.29.6 scramp-1.4.4\n"
     ]
    },
    {
     "name": "stderr",
     "output_type": "stream",
     "text": [
      "\n",
      "[notice] A new release of pip is available: 23.0.1 -> 23.1.2\n",
      "[notice] To update, run: python.exe -m pip install --upgrade pip\n"
     ]
    }
   ],
   "source": [
    "! pip install sqlalchemy\n",
    "! pip install pg8000"
   ]
  },
  {
   "cell_type": "code",
   "execution_count": 4,
   "id": "6c26b057",
   "metadata": {},
   "outputs": [],
   "source": [
    "from sqlalchemy import create_engine\n",
    "from sqlalchemy import URL\n",
    "\n",
    "url_object = URL.create(\n",
    "    \"postgresql+pg8000\",\n",
    "    username=\"postgres\",\n",
    "    password=\"postgres\",  # plain (unescaped) text\n",
    "    host=\"localhost\",\n",
    "    database=\"ferris\",\n",
    ")\n",
    "\n",
    "engine = create_engine(url_object)"
   ]
  },
  {
   "cell_type": "code",
   "execution_count": 5,
   "id": "a28e8722",
   "metadata": {},
   "outputs": [
    {
     "data": {
      "text/plain": [
       "<sqlalchemy.engine.base.Connection at 0x277588254c8>"
      ]
     },
     "execution_count": 5,
     "metadata": {},
     "output_type": "execute_result"
    }
   ],
   "source": [
    "engine.connect()"
   ]
  },
  {
   "cell_type": "code",
   "execution_count": null,
   "id": "7ea968ca",
   "metadata": {},
   "outputs": [],
   "source": []
  }
 ],
 "metadata": {
  "kernelspec": {
   "display_name": "Python 3 (ipykernel)",
   "language": "python",
   "name": "python3"
  },
  "language_info": {
   "codemirror_mode": {
    "name": "ipython",
    "version": 3
   },
   "file_extension": ".py",
   "mimetype": "text/x-python",
   "name": "python",
   "nbconvert_exporter": "python",
   "pygments_lexer": "ipython3",
   "version": "3.7.9"
  }
 },
 "nbformat": 4,
 "nbformat_minor": 5
}
